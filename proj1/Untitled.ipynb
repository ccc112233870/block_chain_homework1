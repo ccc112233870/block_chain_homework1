{
 "cells": [
  {
   "cell_type": "code",
   "execution_count": 1,
   "id": "3bc18485-2180-4448-a571-e2bb2170533e",
   "metadata": {},
   "outputs": [
    {
     "name": "stdout",
     "output_type": "stream",
     "text": [
      "\n",
      "I generated #1000 leaves for a Merkle tree.\n",
      "I generated a Merkle proof for leaf #683 in file merkle_proof.txt\n",
      "\n"
     ]
    }
   ],
   "source": [
    "%run prover.py 683"
   ]
  },
  {
   "cell_type": "code",
   "execution_count": 7,
   "id": "4123c32f-8b87-450f-acd2-490512e9b3b4",
   "metadata": {},
   "outputs": [
    {
     "name": "stderr",
     "output_type": "stream",
     "text": [
      "C:\\Users\\Administrator\\experience\\proj1\\verifier.py:24: SyntaxWarning: invalid escape sequence '\\d'\n",
      "  pos  = int(re.search('(\\d*)$', fp.readline()).group(1))\n"
     ]
    },
    {
     "ename": "Error",
     "evalue": "Incorrect padding",
     "output_type": "error",
     "traceback": [
      "\u001b[1;31m---------------------------------------------------------------------------\u001b[0m",
      "\u001b[1;31mError\u001b[0m                                     Traceback (most recent call last)",
      "File \u001b[1;32m~\\experience\\proj1\\verifier.py:65\u001b[0m\n\u001b[0;32m     61\u001b[0m \u001b[38;5;66;03m### Main program\u001b[39;00m\n\u001b[0;32m     62\u001b[0m \u001b[38;5;28;01mif\u001b[39;00m \u001b[38;5;18m__name__\u001b[39m \u001b[38;5;241m==\u001b[39m \u001b[38;5;124m\"\u001b[39m\u001b[38;5;124m__main__\u001b[39m\u001b[38;5;124m\"\u001b[39m:\n\u001b[0;32m     63\u001b[0m \n\u001b[0;32m     64\u001b[0m     \u001b[38;5;66;03m# Read (leaf data, position of leaf, and proof) from file\u001b[39;00m\n\u001b[1;32m---> 65\u001b[0m     merkle_proof \u001b[38;5;241m=\u001b[39m read_merkle_proof(merkle_proof_file)\n\u001b[0;32m     67\u001b[0m     \u001b[38;5;66;03m# Read optional leaf number from command line\u001b[39;00m\n\u001b[0;32m     68\u001b[0m     \u001b[38;5;66;03m# If provided, verify that Merkle proof is for this leaf\u001b[39;00m\n\u001b[0;32m     69\u001b[0m     \u001b[38;5;28;01mif\u001b[39;00m \u001b[38;5;28mlen\u001b[39m(sys\u001b[38;5;241m.\u001b[39margv) \u001b[38;5;241m>\u001b[39m \u001b[38;5;241m1\u001b[39m:\n",
      "File \u001b[1;32m~\\experience\\proj1\\verifier.py:29\u001b[0m, in \u001b[0;36mread_merkle_proof\u001b[1;34m(filename)\u001b[0m\n\u001b[0;32m     27\u001b[0m hashes \u001b[38;5;241m=\u001b[39m fp\u001b[38;5;241m.\u001b[39mreadlines()\n\u001b[0;32m     28\u001b[0m \u001b[38;5;28;01mfor\u001b[39;00m i \u001b[38;5;129;01min\u001b[39;00m \u001b[38;5;28mrange\u001b[39m(\u001b[38;5;28mlen\u001b[39m(hashes)):\n\u001b[1;32m---> 29\u001b[0m     hashes[i] \u001b[38;5;241m=\u001b[39m b64decode((hashes[i])[\u001b[38;5;241m2\u001b[39m:])\n\u001b[0;32m     30\u001b[0m fp\u001b[38;5;241m.\u001b[39mclose()\n\u001b[0;32m     31\u001b[0m \u001b[38;5;28;01mreturn\u001b[39;00m MerkleProof(leaf\u001b[38;5;241m=\u001b[39mleaf, pos\u001b[38;5;241m=\u001b[39mpos, hashes\u001b[38;5;241m=\u001b[39mhashes)\n",
      "File \u001b[1;32mD:\\anaconda\\Lib\\base64.py:88\u001b[0m, in \u001b[0;36mb64decode\u001b[1;34m(s, altchars, validate)\u001b[0m\n\u001b[0;32m     86\u001b[0m     \u001b[38;5;28;01massert\u001b[39;00m \u001b[38;5;28mlen\u001b[39m(altchars) \u001b[38;5;241m==\u001b[39m \u001b[38;5;241m2\u001b[39m, \u001b[38;5;28mrepr\u001b[39m(altchars)\n\u001b[0;32m     87\u001b[0m     s \u001b[38;5;241m=\u001b[39m s\u001b[38;5;241m.\u001b[39mtranslate(\u001b[38;5;28mbytes\u001b[39m\u001b[38;5;241m.\u001b[39mmaketrans(altchars, \u001b[38;5;124mb\u001b[39m\u001b[38;5;124m'\u001b[39m\u001b[38;5;124m+/\u001b[39m\u001b[38;5;124m'\u001b[39m))\n\u001b[1;32m---> 88\u001b[0m \u001b[38;5;28;01mreturn\u001b[39;00m binascii\u001b[38;5;241m.\u001b[39ma2b_base64(s, strict_mode\u001b[38;5;241m=\u001b[39mvalidate)\n",
      "\u001b[1;31mError\u001b[0m: Incorrect padding"
     ]
    }
   ],
   "source": [
    "%run verifier.py 683"
   ]
  },
  {
   "cell_type": "code",
   "execution_count": null,
   "id": "db8a27f4-b78e-4ff0-a135-9290656f405c",
   "metadata": {},
   "outputs": [],
   "source": []
  }
 ],
 "metadata": {
  "kernelspec": {
   "display_name": "Python 3 (ipykernel)",
   "language": "python",
   "name": "python3"
  },
  "language_info": {
   "codemirror_mode": {
    "name": "ipython",
    "version": 3
   },
   "file_extension": ".py",
   "mimetype": "text/x-python",
   "name": "python",
   "nbconvert_exporter": "python",
   "pygments_lexer": "ipython3",
   "version": "3.12.4"
  }
 },
 "nbformat": 4,
 "nbformat_minor": 5
}
